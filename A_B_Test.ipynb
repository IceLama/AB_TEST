{
 "cells": [
  {
   "cell_type": "code",
   "execution_count": 22,
   "id": "a390ea08",
   "metadata": {},
   "outputs": [
    {
     "data": {
      "text/html": [
       "<div>\n",
       "<style scoped>\n",
       "    .dataframe tbody tr th:only-of-type {\n",
       "        vertical-align: middle;\n",
       "    }\n",
       "\n",
       "    .dataframe tbody tr th {\n",
       "        vertical-align: top;\n",
       "    }\n",
       "\n",
       "    .dataframe thead th {\n",
       "        text-align: right;\n",
       "    }\n",
       "</style>\n",
       "<table border=\"1\" class=\"dataframe\">\n",
       "  <thead>\n",
       "    <tr style=\"text-align: right;\">\n",
       "      <th></th>\n",
       "      <th></th>\n",
       "      <th>user_id</th>\n",
       "      <th>timestamp</th>\n",
       "      <th>converted</th>\n",
       "    </tr>\n",
       "    <tr>\n",
       "      <th>group</th>\n",
       "      <th>landing_page</th>\n",
       "      <th></th>\n",
       "      <th></th>\n",
       "      <th></th>\n",
       "    </tr>\n",
       "  </thead>\n",
       "  <tbody>\n",
       "    <tr>\n",
       "      <th rowspan=\"2\" valign=\"top\">control</th>\n",
       "      <th>new_page</th>\n",
       "      <td>1928</td>\n",
       "      <td>1928</td>\n",
       "      <td>1928</td>\n",
       "    </tr>\n",
       "    <tr>\n",
       "      <th>old_page</th>\n",
       "      <td>145274</td>\n",
       "      <td>145274</td>\n",
       "      <td>145274</td>\n",
       "    </tr>\n",
       "    <tr>\n",
       "      <th rowspan=\"2\" valign=\"top\">treatment</th>\n",
       "      <th>new_page</th>\n",
       "      <td>145311</td>\n",
       "      <td>145311</td>\n",
       "      <td>145311</td>\n",
       "    </tr>\n",
       "    <tr>\n",
       "      <th>old_page</th>\n",
       "      <td>1965</td>\n",
       "      <td>1965</td>\n",
       "      <td>1965</td>\n",
       "    </tr>\n",
       "  </tbody>\n",
       "</table>\n",
       "</div>"
      ],
      "text/plain": [
       "                        user_id  timestamp  converted\n",
       "group     landing_page                               \n",
       "control   new_page         1928       1928       1928\n",
       "          old_page       145274     145274     145274\n",
       "treatment new_page       145311     145311     145311\n",
       "          old_page         1965       1965       1965"
      ]
     },
     "execution_count": 22,
     "metadata": {},
     "output_type": "execute_result"
    }
   ],
   "source": [
    "import numpy as np\n",
    "import pandas as pd\n",
    "import scipy\n",
    "\n",
    "'''\n",
    "\n",
    "We will conduct A/B testing of click-through rates and conversions of two versions of sites\n",
    "\n",
    "Dataset is taken from Kaggle (https://www.kaggle.com/datasets/zhangluyuan/ab-testing)\n",
    "\n",
    "This data set contains the test result, during which the two groups,\n",
    "control and experimental, viewed the old web page and the new web page, respectively.\n",
    "The purpose of this test was to determine whether a new web page resulted in a significant increase in the number of\n",
    "conversions compared to the old web page. Each row represents a unique user and shows\n",
    "whether they belong to the control or experimental group, and whether they converted or not.\n",
    "\n",
    "Because we're doing an A/B test for conversions, which is a categorical variable,\n",
    "corresponding to the Bernoulli distribution, we will use the chi-square test\n",
    "\n",
    "'''\n",
    "\n",
    "df = pd.read_csv('data/ab_data.csv')\n",
    "\n",
    "# We check the purity of the data. That is, are there any users in the control group who have seen the new page,\n",
    "# and whether there are users from the experimental group who have seen the old page.df.groupby(['group', 'landing_page']).count()"
   ]
  },
  {
   "cell_type": "code",
   "execution_count": 23,
   "id": "b8f8bb30",
   "metadata": {},
   "outputs": [
    {
     "data": {
      "text/html": [
       "<div>\n",
       "<style scoped>\n",
       "    .dataframe tbody tr th:only-of-type {\n",
       "        vertical-align: middle;\n",
       "    }\n",
       "\n",
       "    .dataframe tbody tr th {\n",
       "        vertical-align: top;\n",
       "    }\n",
       "\n",
       "    .dataframe thead th {\n",
       "        text-align: right;\n",
       "    }\n",
       "</style>\n",
       "<table border=\"1\" class=\"dataframe\">\n",
       "  <thead>\n",
       "    <tr style=\"text-align: right;\">\n",
       "      <th></th>\n",
       "      <th></th>\n",
       "      <th>user_id</th>\n",
       "      <th>timestamp</th>\n",
       "      <th>converted</th>\n",
       "    </tr>\n",
       "    <tr>\n",
       "      <th>group</th>\n",
       "      <th>landing_page</th>\n",
       "      <th></th>\n",
       "      <th></th>\n",
       "      <th></th>\n",
       "    </tr>\n",
       "  </thead>\n",
       "  <tbody>\n",
       "    <tr>\n",
       "      <th>control</th>\n",
       "      <th>old_page</th>\n",
       "      <td>145274</td>\n",
       "      <td>145274</td>\n",
       "      <td>145274</td>\n",
       "    </tr>\n",
       "    <tr>\n",
       "      <th>treatment</th>\n",
       "      <th>new_page</th>\n",
       "      <td>145311</td>\n",
       "      <td>145311</td>\n",
       "      <td>145311</td>\n",
       "    </tr>\n",
       "  </tbody>\n",
       "</table>\n",
       "</div>"
      ],
      "text/plain": [
       "                        user_id  timestamp  converted\n",
       "group     landing_page                               \n",
       "control   old_page       145274     145274     145274\n",
       "treatment new_page       145311     145311     145311"
      ]
     },
     "execution_count": 23,
     "metadata": {},
     "output_type": "execute_result"
    }
   ],
   "source": [
    "# It turned out that there is. Gotta fix it.\n",
    "df_cleaned = df.loc[(df['group'] == 'control') & (df['landing_page'] == 'old_page')|\n",
    "                    (df['group'] == 'treatment') & (df['landing_page'] == 'new_page')\n",
    "                    ]\n",
    "df_cleaned.groupby(['group', 'landing_page']).count()"
   ]
  },
  {
   "cell_type": "code",
   "execution_count": 24,
   "id": "b3c1ad0f",
   "metadata": {},
   "outputs": [
    {
     "data": {
      "text/plain": [
       "1"
      ]
     },
     "execution_count": 24,
     "metadata": {},
     "output_type": "execute_result"
    }
   ],
   "source": [
    "#Next, we check the uniqueness of users\n",
    "df_cleaned['user_id'].duplicated().sum()"
   ]
  },
  {
   "cell_type": "code",
   "execution_count": 25,
   "id": "033a710d",
   "metadata": {},
   "outputs": [
    {
     "data": {
      "text/plain": [
       "1899    773192\n",
       "2893    773192\n",
       "Name: user_id, dtype: int64"
      ]
     },
     "execution_count": 25,
     "metadata": {},
     "output_type": "execute_result"
    }
   ],
   "source": [
    "# It turned out that 1 duplicate is still there. Let's see who it is\n",
    "df_cleaned[df_cleaned.duplicated(['user_id'], keep=False)]['user_id']"
   ]
  },
  {
   "cell_type": "code",
   "execution_count": 26,
   "id": "61147ccc",
   "metadata": {},
   "outputs": [
    {
     "data": {
      "text/plain": [
       "0"
      ]
     },
     "execution_count": 26,
     "metadata": {},
     "output_type": "execute_result"
    }
   ],
   "source": [
    "# Let's remove it so it doesn't get in the way\n",
    "df_cleaned = df_cleaned.drop_duplicates(subset='user_id', keep='first')\n",
    "df_cleaned['user_id'].duplicated().sum()"
   ]
  },
  {
   "cell_type": "code",
   "execution_count": 27,
   "id": "72dd9d90",
   "metadata": {
    "scrolled": false
   },
   "outputs": [
    {
     "data": {
      "text/plain": [
       "<AxesSubplot:xlabel='group,landing_page,converted'>"
      ]
     },
     "execution_count": 27,
     "metadata": {},
     "output_type": "execute_result"
    },
    {
     "data": {
      "image/png": "[encoded data removed]",
      "text/plain": [
       "<Figure size 640x480 with 1 Axes>"
      ]
     },
     "metadata": {},
     "output_type": "display_data"
    }
   ],
   "source": [
    "# Let's see the share of conversions in each group\n",
    "group = df_cleaned.groupby(['group', 'landing_page', 'converted']).size()\n",
    "group.plot.bar(grid=True)"
   ]
  },
  {
   "cell_type": "code",
   "execution_count": 28,
   "id": "3c953c47",
   "metadata": {
    "scrolled": false
   },
   "outputs": [
    {
     "data": {
      "text/plain": [
       "<AxesSubplot:ylabel='landing_page'>"
      ]
     },
     "execution_count": 28,
     "metadata": {},
     "output_type": "execute_result"
    },
    {
     "data": {
      "image/png": "[encoded data removed]",
      "text/plain": [
       "<Figure size 640x480 with 1 Axes>"
      ]
     },
     "metadata": {},
     "output_type": "display_data"
    }
   ],
   "source": [
    "#Let's look at whether users are equally divided in groups\n",
    "df_cleaned['landing_page'].value_counts().plot.pie()"
   ]
  },
  {
   "cell_type": "code",
   "execution_count": 29,
   "id": "60d60cc1",
   "metadata": {},
   "outputs": [],
   "source": [
    "# Data prepared. Now we can move on to the calculations\n",
    "\n",
    "# First, let's divide our users into 2 groups\n",
    "control = df_cleaned[df_cleaned['group'] == 'control']\n",
    "treatment = df_cleaned[df_cleaned['group'] == 'treatment']\n",
    "\n",
    "# Calculate for each group the number of converted (click)\n",
    "# and non-converted (noclick) users\n",
    "control_click = control.converted.sum()\n",
    "control_noclick = control.converted.size - control_click\n",
    "treatment_click = treatment.converted.sum()\n",
    "treatment_noclick = treatment.converted.size - treatment_click\n",
    "\n",
    "# Create an array\n",
    "T = np.array([[control_click, control_noclick], [treatment_click, treatment_noclick]])"
   ]
  },
  {
   "cell_type": "code",
   "execution_count": 30,
   "id": "f69babc3",
   "metadata": {},
   "outputs": [
    {
     "data": {
      "text/plain": [
       "0.18988337448194853"
      ]
     },
     "execution_count": 30,
     "metadata": {},
     "output_type": "execute_result"
    }
   ],
   "source": [
    "# Calculqting p-value\n",
    "scipy.stats.chi2_contingency(T, correction=False)[1]"
   ]
  },
  {
   "cell_type": "code",
   "execution_count": 31,
   "id": "0fb77d17",
   "metadata": {},
   "outputs": [
    {
     "name": "stdout",
     "output_type": "stream",
     "text": [
      "control CTR 0.1203863045004612\n",
      "treatment CTR 0.11880806551510564\n"
     ]
    }
   ],
   "source": [
    "'''\n",
    "The calculated p is ~ 18.99%. Assuming a significance level of even 5%, we get,\n",
    "that our p-value is much higher than alpha and therefore we do not reject null\n",
    "hypothesis. Which means that the conversion difference between the old and new web pages is not significant.\n",
    "\n",
    "'''\n",
    "\n",
    "# Let's check the results. Calculate the conversion rates of the two groups\n",
    "control_CTR = control_click / (control_click + control_noclick)\n",
    "treatment_CTR = treatment_click / (treatment_click + treatment_noclick)\n",
    "\n",
    "print('control CTR', control_CTR)\n",
    "print('treatment CTR', treatment_CTR)"
   ]
  },
  {
   "cell_type": "code",
   "execution_count": null,
   "id": "3261cc30",
   "metadata": {},
   "outputs": [],
   "source": [
    "#The difference between the coefficients is minimal"
   ]
  }
 ],
 "metadata": {
  "kernelspec": {
   "display_name": "Python 3 (ipykernel)",
   "language": "python",
   "name": "python3"
  },
  "language_info": {
   "codemirror_mode": {
    "name": "ipython",
    "version": 3
   },
   "file_extension": ".py",
   "mimetype": "text/x-python",
   "name": "python",
   "nbconvert_exporter": "python",
   "pygments_lexer": "ipython3",
   "version": "3.9.13"
  }
 },
 "nbformat": 4,
 "nbformat_minor": 5
}
